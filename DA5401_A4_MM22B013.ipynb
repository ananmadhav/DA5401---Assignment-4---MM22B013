{
 "cells": [
  {
   "cell_type": "markdown",
   "id": "2f4fa960",
   "metadata": {},
   "source": [
    "# DA5401 – Assignment 3\n",
    "**Name:** Anan Madhav T V  \n",
    "**Roll No:** MM22B013\n",
    "\n",
    "---\n",
    "### Notebook outline\n",
    "- Part A: Baseline Model and Data Analysis\n",
    "- Part B: Gaussian Mixture Model (GMM) for Synthetic Sampling\n",
    "- Part C: Performance Evaluation and Conclusion\n"
   ]
  },
  {
   "cell_type": "code",
   "execution_count": 36,
   "id": "d5c3a905-f589-4a89-87fa-037d61c38dcd",
   "metadata": {},
   "outputs": [],
   "source": [
    "import pandas as pd\n",
    "from sklearn.model_selection import train_test_split\n",
    "from sklearn.preprocessing import StandardScaler\n",
    "from sklearn.linear_model import LogisticRegression\n",
    "from sklearn.metrics import classification_report, confusion_matrix\n",
    "from sklearn.mixture import GaussianMixture\n",
    "import numpy as np\n",
    "import matplotlib.pyplot as plt\n",
    "from sklearn.cluster import KMeans\n"
   ]
  },
  {
   "cell_type": "markdown",
   "id": "38a94112",
   "metadata": {},
   "source": [
    "# Part A: Baseline Model and Data Analysis"
   ]
  },
  {
   "cell_type": "code",
   "execution_count": 37,
   "id": "bc87f744",
   "metadata": {},
   "outputs": [
    {
     "name": "stdout",
     "output_type": "stream",
     "text": [
      "Dataset shape: (284807, 31)\n",
      "Class distribution:\n",
      " Class\n",
      "0    284315\n",
      "1       492\n",
      "Name: count, dtype: int64\n",
      "Fraction minority: 0.001727485630620034\n"
     ]
    }
   ],
   "source": [
    "# Load dataset\n",
    "data_path = 'creditcard.csv'\n",
    "df = pd.read_csv(data_path)\n",
    "print(\"Dataset shape:\", df.shape)\n",
    "print(\"Class distribution:\\n\", df['Class'].value_counts())\n",
    "print(\"Fraction minority:\", df['Class'].mean())\n"
   ]
  },
  {
   "cell_type": "code",
   "execution_count": 38,
   "id": "4f80ae7e-2a65-4c3a-9335-491396091f73",
   "metadata": {},
   "outputs": [
    {
     "data": {
      "image/png": "[encoded data removed]",
      "text/plain": [
       "<Figure size 640x480 with 1 Axes>"
      ]
     },
     "metadata": {},
     "output_type": "display_data"
    }
   ],
   "source": [
    "class_counts = df['Class'].value_counts()\n",
    "plt.pie(class_counts, labels=['Non-Fraud (0)', 'Fraud (1)'],\n",
    "        autopct='%1.2f%%', colors=['skyblue', 'red'])\n",
    "plt.title(\"Class Distribution (Fraud vs Non-Fraud)\")\n",
    "plt.show()\n"
   ]
  },
  {
   "cell_type": "markdown",
   "id": "cfd0d9d2-ec4d-46ab-88b9-2df389547504",
   "metadata": {},
   "source": [
    "### Observation  \n",
    "\n",
    "- **Non-fraud (0):** 284,315  \n",
    "- **Fraud (1):** 492  \n",
    "\n",
    "**Degree of imbalance:** Approximately **578 : 1** (non-fraud to fraud).  \n",
    "\n"
   ]
  },
  {
   "cell_type": "code",
   "execution_count": 39,
   "id": "6fba60da",
   "metadata": {},
   "outputs": [],
   "source": [
    "X = df.drop('Class', axis=1)\n",
    "y = df['Class']\n",
    "\n",
    "X_train, X_test, y_train, y_test = train_test_split(X, y, test_size=0.2, stratify=y, random_state=42)\n",
    "\n",
    "# Standardize\n",
    "scaler = StandardScaler()\n",
    "X_train = pd.DataFrame(scaler.fit_transform(X_train), columns=X.columns)\n",
    "X_test = pd.DataFrame(scaler.transform(X_test), columns=X.columns)\n",
    "\n",
    "# Reset indices so they align\n",
    "X_train = X_train.reset_index(drop=True)\n",
    "X_test = X_test.reset_index(drop=True)\n",
    "y_train = y_train.reset_index(drop=True)\n",
    "y_test = y_test.reset_index(drop=True)"
   ]
  },
  {
   "cell_type": "code",
   "execution_count": 40,
   "id": "b50f3da0",
   "metadata": {},
   "outputs": [],
   "source": [
    "baseline_clf = LogisticRegression(max_iter=1000, random_state=42)\n",
    "baseline_clf.fit(X_train, y_train)\n",
    "y_pred_baseline = baseline_clf.predict(X_test)\n"
   ]
  },
  {
   "cell_type": "markdown",
   "id": "f81c4050",
   "metadata": {},
   "source": [
    "\n",
    "### Baseline Evaluation\n"
   ]
  },
  {
   "cell_type": "code",
   "execution_count": 41,
   "id": "87d6ea8c",
   "metadata": {},
   "outputs": [
    {
     "name": "stdout",
     "output_type": "stream",
     "text": [
      "Baseline report:\n",
      "\n",
      "              precision    recall  f1-score   support\n",
      "\n",
      "           0     0.9994    0.9998    0.9996     56864\n",
      "           1     0.8267    0.6327    0.7168        98\n",
      "\n",
      "    accuracy                         0.9991     56962\n",
      "   macro avg     0.9130    0.8162    0.8582     56962\n",
      "weighted avg     0.9991    0.9991    0.9991     56962\n",
      "\n",
      "Confusion matrix:\n",
      " [[56851    13]\n",
      " [   36    62]]\n"
     ]
    }
   ],
   "source": [
    "print(\"Baseline report:\\n\")\n",
    "print(classification_report(y_test, y_pred_baseline, digits=4))\n",
    "print(\"Confusion matrix:\\n\", confusion_matrix(y_test, y_pred_baseline))\n"
   ]
  },
  {
   "cell_type": "markdown",
   "id": "23d790c4-a517-4b6f-8421-6854b24cd543",
   "metadata": {},
   "source": [
    "**why metrics such as Precision, Recall, and F1-score for the minority class are more informative than accuracy for this problem?**\n",
    "\n",
    "In cases like credit card fraud detection, accuracy doesn’t really give the full picture because the data is very imbalanced, with far more normal transactions than fraud ones. A model can just predict everything as non-fraud and still get high accuracy, but it won’t actually catch any fraud. That’s why metrics like precision, recall, and F1-score are more useful. Precision shows how many of the transactions predicted as fraud are actually fraud, recall shows how many real fraud cases the model was able to detect, and the F1-score gives a balance between the two. These metrics focus on the minority class, which is what really matters here, so they’re much better indicators of how good the model actually is compared to just accuracy."
   ]
  },
  {
   "cell_type": "markdown",
   "id": "a5d07012",
   "metadata": {},
   "source": [
    "\n",
    "## Part B: Gaussian Mixture Model (GMM) for Synthetic Sampling\n"
   ]
  },
  {
   "cell_type": "markdown",
   "id": "461554cc",
   "metadata": {},
   "source": [
    "### Theoretical Foundation\n",
    "\n",
    "The fundamental difference between GMM-based synthetic sampling and simpler methods like SMOTE lies in how new samples are created. SMOTE generates synthetic points by interpolating between existing minority class samples and their nearest neighbors. This makes it simple and effective, but it assumes that the minority class follows a relatively continuous distribution. As a result, SMOTE can struggle when the data has multiple clusters, gaps, or irregular patterns.\n",
    "\n",
    "GMM-based sampling, on the other hand, fits the minority data into a Gaussian Mixture Model, which represents the distribution as a combination of several Gaussian components. Each component can capture a sub-group within the minority class, allowing the method to model complex structures. This makes the generated samples more realistic and faithful to the true data distribution. Theoretically, this gives GMM an advantage over SMOTE, especially when the minority class consists of several distinct sub-groups or has non-linear shapes in the feature space."
   ]
  },
  {
   "cell_type": "markdown",
   "id": "42bb6147",
   "metadata": {},
   "source": [
    "\n",
    "### GMM Implementation\n"
   ]
  },
  {
   "cell_type": "code",
   "execution_count": 42,
   "id": "3b16a73d",
   "metadata": {},
   "outputs": [
    {
     "data": {
      "image/png": "[encoded data removed]",
      "text/plain": [
       "<Figure size 800x400 with 1 Axes>"
      ]
     },
     "metadata": {},
     "output_type": "display_data"
    },
    {
     "name": "stdout",
     "output_type": "stream",
     "text": [
      "Best k by BIC: 3\n",
      "Best k by AIC: 37\n"
     ]
    }
   ],
   "source": [
    "X_min = X_train[y_train==1].reset_index(drop=True)\n",
    "X_maj = X_train[y_train==0].reset_index(drop=True)\n",
    "\n",
    "components = range(1, 40)\n",
    "bics = []\n",
    "aics = []\n",
    "\n",
    "for k in components:\n",
    "    gmm_tmp = GaussianMixture(n_components=k, covariance_type='full', random_state=42)\n",
    "    gmm_tmp.fit(X_min)\n",
    "    bics.append(gmm_tmp.bic(X_min))\n",
    "    aics.append(gmm_tmp.aic(X_min))\n",
    "\n",
    "\n",
    "plt.figure(figsize=(8,4))\n",
    "plt.plot(components, bics, marker='o', label='BIC')\n",
    "plt.plot(components, aics, marker='s', label='AIC')\n",
    "plt.xlabel(\"Number of Components\")\n",
    "plt.ylabel(\"Score (lower is better)\")\n",
    "plt.title(\"GMM Model Selection: BIC vs AIC\")\n",
    "plt.legend()\n",
    "plt.show()\n",
    "\n",
    "best_k_bic = components[int(np.argmin(bics))]\n",
    "best_k_aic = components[int(np.argmin(aics))]\n",
    "\n",
    "print(\"Best k by BIC:\", best_k_bic)\n",
    "print(\"Best k by AIC:\", best_k_aic)\n"
   ]
  },
  {
   "cell_type": "markdown",
   "id": "38b70429-4415-40b0-b68b-94a094bb11ca",
   "metadata": {},
   "source": [
    "**Optimal Number of GMM Components**\n",
    "\n",
    "To determine the optimal number of components \\(k\\) for the GMM, we compared models with \\(k = 1\\) to \\(34\\) using the **Bayesian Information Criterion (BIC)**. The BIC is useful for model selection because it balances model fit with complexity, penalizing models that use more parameters unless they significantly improve the fit. \n",
    "\n",
    "As shown in the plot, the BIC scores decrease as the number of components increases, reaching the lowest point at **\\(k = 3\\)**. This means that the GMM with 10 components provides the best trade-off between accuracy and complexity for the minority class data. Hence, we selected **3 components** as the optimal value since it best captures the underlying distribution of the minority class.\n"
   ]
  },
  {
   "cell_type": "code",
   "execution_count": 43,
   "id": "3b407ead",
   "metadata": {},
   "outputs": [
    {
     "data": {
      "text/html": [
       "<style>#sk-container-id-4 {\n",
       "  /* Definition of color scheme common for light and dark mode */\n",
       "  --sklearn-color-text: black;\n",
       "  --sklearn-color-line: gray;\n",
       "  /* Definition of color scheme for unfitted estimators */\n",
       "  --sklearn-color-unfitted-level-0: #fff5e6;\n",
       "  --sklearn-color-unfitted-level-1: #f6e4d2;\n",
       "  --sklearn-color-unfitted-level-2: #ffe0b3;\n",
       "  --sklearn-color-unfitted-level-3: chocolate;\n",
       "  /* Definition of color scheme for fitted estimators */\n",
       "  --sklearn-color-fitted-level-0: #f0f8ff;\n",
       "  --sklearn-color-fitted-level-1: #d4ebff;\n",
       "  --sklearn-color-fitted-level-2: #b3dbfd;\n",
       "  --sklearn-color-fitted-level-3: cornflowerblue;\n",
       "\n",
       "  /* Specific color for light theme */\n",
       "  --sklearn-color-text-on-default-background: var(--sg-text-color, var(--theme-code-foreground, var(--jp-content-font-color1, black)));\n",
       "  --sklearn-color-background: var(--sg-background-color, var(--theme-background, var(--jp-layout-color0, white)));\n",
       "  --sklearn-color-border-box: var(--sg-text-color, var(--theme-code-foreground, var(--jp-content-font-color1, black)));\n",
       "  --sklearn-color-icon: #696969;\n",
       "\n",
       "  @media (prefers-color-scheme: dark) {\n",
       "    /* Redefinition of color scheme for dark theme */\n",
       "    --sklearn-color-text-on-default-background: var(--sg-text-color, var(--theme-code-foreground, var(--jp-content-font-color1, white)));\n",
       "    --sklearn-color-background: var(--sg-background-color, var(--theme-background, var(--jp-layout-color0, #111)));\n",
       "    --sklearn-color-border-box: var(--sg-text-color, var(--theme-code-foreground, var(--jp-content-font-color1, white)));\n",
       "    --sklearn-color-icon: #878787;\n",
       "  }\n",
       "}\n",
       "\n",
       "#sk-container-id-4 {\n",
       "  color: var(--sklearn-color-text);\n",
       "}\n",
       "\n",
       "#sk-container-id-4 pre {\n",
       "  padding: 0;\n",
       "}\n",
       "\n",
       "#sk-container-id-4 input.sk-hidden--visually {\n",
       "  border: 0;\n",
       "  clip: rect(1px 1px 1px 1px);\n",
       "  clip: rect(1px, 1px, 1px, 1px);\n",
       "  height: 1px;\n",
       "  margin: -1px;\n",
       "  overflow: hidden;\n",
       "  padding: 0;\n",
       "  position: absolute;\n",
       "  width: 1px;\n",
       "}\n",
       "\n",
       "#sk-container-id-4 div.sk-dashed-wrapped {\n",
       "  border: 1px dashed var(--sklearn-color-line);\n",
       "  margin: 0 0.4em 0.5em 0.4em;\n",
       "  box-sizing: border-box;\n",
       "  padding-bottom: 0.4em;\n",
       "  background-color: var(--sklearn-color-background);\n",
       "}\n",
       "\n",
       "#sk-container-id-4 div.sk-container {\n",
       "  /* jupyter's `normalize.less` sets `[hidden] { display: none; }`\n",
       "     but bootstrap.min.css set `[hidden] { display: none !important; }`\n",
       "     so we also need the `!important` here to be able to override the\n",
       "     default hidden behavior on the sphinx rendered scikit-learn.org.\n",
       "     See: https://github.com/scikit-learn/scikit-learn/issues/21755 */\n",
       "  display: inline-block !important;\n",
       "  position: relative;\n",
       "}\n",
       "\n",
       "#sk-container-id-4 div.sk-text-repr-fallback {\n",
       "  display: none;\n",
       "}\n",
       "\n",
       "div.sk-parallel-item,\n",
       "div.sk-serial,\n",
       "div.sk-item {\n",
       "  /* draw centered vertical line to link estimators */\n",
       "  background-image: linear-gradient(var(--sklearn-color-text-on-default-background), var(--sklearn-color-text-on-default-background));\n",
       "  background-size: 2px 100%;\n",
       "  background-repeat: no-repeat;\n",
       "  background-position: center center;\n",
       "}\n",
       "\n",
       "/* Parallel-specific style estimator block */\n",
       "\n",
       "#sk-container-id-4 div.sk-parallel-item::after {\n",
       "  content: \"\";\n",
       "  width: 100%;\n",
       "  border-bottom: 2px solid var(--sklearn-color-text-on-default-background);\n",
       "  flex-grow: 1;\n",
       "}\n",
       "\n",
       "#sk-container-id-4 div.sk-parallel {\n",
       "  display: flex;\n",
       "  align-items: stretch;\n",
       "  justify-content: center;\n",
       "  background-color: var(--sklearn-color-background);\n",
       "  position: relative;\n",
       "}\n",
       "\n",
       "#sk-container-id-4 div.sk-parallel-item {\n",
       "  display: flex;\n",
       "  flex-direction: column;\n",
       "}\n",
       "\n",
       "#sk-container-id-4 div.sk-parallel-item:first-child::after {\n",
       "  align-self: flex-end;\n",
       "  width: 50%;\n",
       "}\n",
       "\n",
       "#sk-container-id-4 div.sk-parallel-item:last-child::after {\n",
       "  align-self: flex-start;\n",
       "  width: 50%;\n",
       "}\n",
       "\n",
       "#sk-container-id-4 div.sk-parallel-item:only-child::after {\n",
       "  width: 0;\n",
       "}\n",
       "\n",
       "/* Serial-specific style estimator block */\n",
       "\n",
       "#sk-container-id-4 div.sk-serial {\n",
       "  display: flex;\n",
       "  flex-direction: column;\n",
       "  align-items: center;\n",
       "  background-color: var(--sklearn-color-background);\n",
       "  padding-right: 1em;\n",
       "  padding-left: 1em;\n",
       "}\n",
       "\n",
       "\n",
       "/* Toggleable style: style used for estimator/Pipeline/ColumnTransformer box that is\n",
       "clickable and can be expanded/collapsed.\n",
       "- Pipeline and ColumnTransformer use this feature and define the default style\n",
       "- Estimators will overwrite some part of the style using the `sk-estimator` class\n",
       "*/\n",
       "\n",
       "/* Pipeline and ColumnTransformer style (default) */\n",
       "\n",
       "#sk-container-id-4 div.sk-toggleable {\n",
       "  /* Default theme specific background. It is overwritten whether we have a\n",
       "  specific estimator or a Pipeline/ColumnTransformer */\n",
       "  background-color: var(--sklearn-color-background);\n",
       "}\n",
       "\n",
       "/* Toggleable label */\n",
       "#sk-container-id-4 label.sk-toggleable__label {\n",
       "  cursor: pointer;\n",
       "  display: block;\n",
       "  width: 100%;\n",
       "  margin-bottom: 0;\n",
       "  padding: 0.5em;\n",
       "  box-sizing: border-box;\n",
       "  text-align: center;\n",
       "}\n",
       "\n",
       "#sk-container-id-4 label.sk-toggleable__label-arrow:before {\n",
       "  /* Arrow on the left of the label */\n",
       "  content: \"▸\";\n",
       "  float: left;\n",
       "  margin-right: 0.25em;\n",
       "  color: var(--sklearn-color-icon);\n",
       "}\n",
       "\n",
       "#sk-container-id-4 label.sk-toggleable__label-arrow:hover:before {\n",
       "  color: var(--sklearn-color-text);\n",
       "}\n",
       "\n",
       "/* Toggleable content - dropdown */\n",
       "\n",
       "#sk-container-id-4 div.sk-toggleable__content {\n",
       "  max-height: 0;\n",
       "  max-width: 0;\n",
       "  overflow: hidden;\n",
       "  text-align: left;\n",
       "  /* unfitted */\n",
       "  background-color: var(--sklearn-color-unfitted-level-0);\n",
       "}\n",
       "\n",
       "#sk-container-id-4 div.sk-toggleable__content.fitted {\n",
       "  /* fitted */\n",
       "  background-color: var(--sklearn-color-fitted-level-0);\n",
       "}\n",
       "\n",
       "#sk-container-id-4 div.sk-toggleable__content pre {\n",
       "  margin: 0.2em;\n",
       "  border-radius: 0.25em;\n",
       "  color: var(--sklearn-color-text);\n",
       "  /* unfitted */\n",
       "  background-color: var(--sklearn-color-unfitted-level-0);\n",
       "}\n",
       "\n",
       "#sk-container-id-4 div.sk-toggleable__content.fitted pre {\n",
       "  /* unfitted */\n",
       "  background-color: var(--sklearn-color-fitted-level-0);\n",
       "}\n",
       "\n",
       "#sk-container-id-4 input.sk-toggleable__control:checked~div.sk-toggleable__content {\n",
       "  /* Expand drop-down */\n",
       "  max-height: 200px;\n",
       "  max-width: 100%;\n",
       "  overflow: auto;\n",
       "}\n",
       "\n",
       "#sk-container-id-4 input.sk-toggleable__control:checked~label.sk-toggleable__label-arrow:before {\n",
       "  content: \"▾\";\n",
       "}\n",
       "\n",
       "/* Pipeline/ColumnTransformer-specific style */\n",
       "\n",
       "#sk-container-id-4 div.sk-label input.sk-toggleable__control:checked~label.sk-toggleable__label {\n",
       "  color: var(--sklearn-color-text);\n",
       "  background-color: var(--sklearn-color-unfitted-level-2);\n",
       "}\n",
       "\n",
       "#sk-container-id-4 div.sk-label.fitted input.sk-toggleable__control:checked~label.sk-toggleable__label {\n",
       "  background-color: var(--sklearn-color-fitted-level-2);\n",
       "}\n",
       "\n",
       "/* Estimator-specific style */\n",
       "\n",
       "/* Colorize estimator box */\n",
       "#sk-container-id-4 div.sk-estimator input.sk-toggleable__control:checked~label.sk-toggleable__label {\n",
       "  /* unfitted */\n",
       "  background-color: var(--sklearn-color-unfitted-level-2);\n",
       "}\n",
       "\n",
       "#sk-container-id-4 div.sk-estimator.fitted input.sk-toggleable__control:checked~label.sk-toggleable__label {\n",
       "  /* fitted */\n",
       "  background-color: var(--sklearn-color-fitted-level-2);\n",
       "}\n",
       "\n",
       "#sk-container-id-4 div.sk-label label.sk-toggleable__label,\n",
       "#sk-container-id-4 div.sk-label label {\n",
       "  /* The background is the default theme color */\n",
       "  color: var(--sklearn-color-text-on-default-background);\n",
       "}\n",
       "\n",
       "/* On hover, darken the color of the background */\n",
       "#sk-container-id-4 div.sk-label:hover label.sk-toggleable__label {\n",
       "  color: var(--sklearn-color-text);\n",
       "  background-color: var(--sklearn-color-unfitted-level-2);\n",
       "}\n",
       "\n",
       "/* Label box, darken color on hover, fitted */\n",
       "#sk-container-id-4 div.sk-label.fitted:hover label.sk-toggleable__label.fitted {\n",
       "  color: var(--sklearn-color-text);\n",
       "  background-color: var(--sklearn-color-fitted-level-2);\n",
       "}\n",
       "\n",
       "/* Estimator label */\n",
       "\n",
       "#sk-container-id-4 div.sk-label label {\n",
       "  font-family: monospace;\n",
       "  font-weight: bold;\n",
       "  display: inline-block;\n",
       "  line-height: 1.2em;\n",
       "}\n",
       "\n",
       "#sk-container-id-4 div.sk-label-container {\n",
       "  text-align: center;\n",
       "}\n",
       "\n",
       "/* Estimator-specific */\n",
       "#sk-container-id-4 div.sk-estimator {\n",
       "  font-family: monospace;\n",
       "  border: 1px dotted var(--sklearn-color-border-box);\n",
       "  border-radius: 0.25em;\n",
       "  box-sizing: border-box;\n",
       "  margin-bottom: 0.5em;\n",
       "  /* unfitted */\n",
       "  background-color: var(--sklearn-color-unfitted-level-0);\n",
       "}\n",
       "\n",
       "#sk-container-id-4 div.sk-estimator.fitted {\n",
       "  /* fitted */\n",
       "  background-color: var(--sklearn-color-fitted-level-0);\n",
       "}\n",
       "\n",
       "/* on hover */\n",
       "#sk-container-id-4 div.sk-estimator:hover {\n",
       "  /* unfitted */\n",
       "  background-color: var(--sklearn-color-unfitted-level-2);\n",
       "}\n",
       "\n",
       "#sk-container-id-4 div.sk-estimator.fitted:hover {\n",
       "  /* fitted */\n",
       "  background-color: var(--sklearn-color-fitted-level-2);\n",
       "}\n",
       "\n",
       "/* Specification for estimator info (e.g. \"i\" and \"?\") */\n",
       "\n",
       "/* Common style for \"i\" and \"?\" */\n",
       "\n",
       ".sk-estimator-doc-link,\n",
       "a:link.sk-estimator-doc-link,\n",
       "a:visited.sk-estimator-doc-link {\n",
       "  float: right;\n",
       "  font-size: smaller;\n",
       "  line-height: 1em;\n",
       "  font-family: monospace;\n",
       "  background-color: var(--sklearn-color-background);\n",
       "  border-radius: 1em;\n",
       "  height: 1em;\n",
       "  width: 1em;\n",
       "  text-decoration: none !important;\n",
       "  margin-left: 1ex;\n",
       "  /* unfitted */\n",
       "  border: var(--sklearn-color-unfitted-level-1) 1pt solid;\n",
       "  color: var(--sklearn-color-unfitted-level-1);\n",
       "}\n",
       "\n",
       ".sk-estimator-doc-link.fitted,\n",
       "a:link.sk-estimator-doc-link.fitted,\n",
       "a:visited.sk-estimator-doc-link.fitted {\n",
       "  /* fitted */\n",
       "  border: var(--sklearn-color-fitted-level-1) 1pt solid;\n",
       "  color: var(--sklearn-color-fitted-level-1);\n",
       "}\n",
       "\n",
       "/* On hover */\n",
       "div.sk-estimator:hover .sk-estimator-doc-link:hover,\n",
       ".sk-estimator-doc-link:hover,\n",
       "div.sk-label-container:hover .sk-estimator-doc-link:hover,\n",
       ".sk-estimator-doc-link:hover {\n",
       "  /* unfitted */\n",
       "  background-color: var(--sklearn-color-unfitted-level-3);\n",
       "  color: var(--sklearn-color-background);\n",
       "  text-decoration: none;\n",
       "}\n",
       "\n",
       "div.sk-estimator.fitted:hover .sk-estimator-doc-link.fitted:hover,\n",
       ".sk-estimator-doc-link.fitted:hover,\n",
       "div.sk-label-container:hover .sk-estimator-doc-link.fitted:hover,\n",
       ".sk-estimator-doc-link.fitted:hover {\n",
       "  /* fitted */\n",
       "  background-color: var(--sklearn-color-fitted-level-3);\n",
       "  color: var(--sklearn-color-background);\n",
       "  text-decoration: none;\n",
       "}\n",
       "\n",
       "/* Span, style for the box shown on hovering the info icon */\n",
       ".sk-estimator-doc-link span {\n",
       "  display: none;\n",
       "  z-index: 9999;\n",
       "  position: relative;\n",
       "  font-weight: normal;\n",
       "  right: .2ex;\n",
       "  padding: .5ex;\n",
       "  margin: .5ex;\n",
       "  width: min-content;\n",
       "  min-width: 20ex;\n",
       "  max-width: 50ex;\n",
       "  color: var(--sklearn-color-text);\n",
       "  box-shadow: 2pt 2pt 4pt #999;\n",
       "  /* unfitted */\n",
       "  background: var(--sklearn-color-unfitted-level-0);\n",
       "  border: .5pt solid var(--sklearn-color-unfitted-level-3);\n",
       "}\n",
       "\n",
       ".sk-estimator-doc-link.fitted span {\n",
       "  /* fitted */\n",
       "  background: var(--sklearn-color-fitted-level-0);\n",
       "  border: var(--sklearn-color-fitted-level-3);\n",
       "}\n",
       "\n",
       ".sk-estimator-doc-link:hover span {\n",
       "  display: block;\n",
       "}\n",
       "\n",
       "/* \"?\"-specific style due to the `<a>` HTML tag */\n",
       "\n",
       "#sk-container-id-4 a.estimator_doc_link {\n",
       "  float: right;\n",
       "  font-size: 1rem;\n",
       "  line-height: 1em;\n",
       "  font-family: monospace;\n",
       "  background-color: var(--sklearn-color-background);\n",
       "  border-radius: 1rem;\n",
       "  height: 1rem;\n",
       "  width: 1rem;\n",
       "  text-decoration: none;\n",
       "  /* unfitted */\n",
       "  color: var(--sklearn-color-unfitted-level-1);\n",
       "  border: var(--sklearn-color-unfitted-level-1) 1pt solid;\n",
       "}\n",
       "\n",
       "#sk-container-id-4 a.estimator_doc_link.fitted {\n",
       "  /* fitted */\n",
       "  border: var(--sklearn-color-fitted-level-1) 1pt solid;\n",
       "  color: var(--sklearn-color-fitted-level-1);\n",
       "}\n",
       "\n",
       "/* On hover */\n",
       "#sk-container-id-4 a.estimator_doc_link:hover {\n",
       "  /* unfitted */\n",
       "  background-color: var(--sklearn-color-unfitted-level-3);\n",
       "  color: var(--sklearn-color-background);\n",
       "  text-decoration: none;\n",
       "}\n",
       "\n",
       "#sk-container-id-4 a.estimator_doc_link.fitted:hover {\n",
       "  /* fitted */\n",
       "  background-color: var(--sklearn-color-fitted-level-3);\n",
       "}\n",
       "</style><div id=\"sk-container-id-4\" class=\"sk-top-container\"><div class=\"sk-text-repr-fallback\"><pre>GaussianMixture(n_components=3, random_state=42)</pre><b>In a Jupyter environment, please rerun this cell to show the HTML representation or trust the notebook. <br />On GitHub, the HTML representation is unable to render, please try loading this page with nbviewer.org.</b></div><div class=\"sk-container\" hidden><div class=\"sk-item\"><div class=\"sk-estimator fitted sk-toggleable\"><input class=\"sk-toggleable__control sk-hidden--visually\" id=\"sk-estimator-id-4\" type=\"checkbox\" checked><label for=\"sk-estimator-id-4\" class=\"sk-toggleable__label fitted sk-toggleable__label-arrow fitted\">&nbsp;&nbsp;GaussianMixture<a class=\"sk-estimator-doc-link fitted\" rel=\"noreferrer\" target=\"_blank\" href=\"https://scikit-learn.org/1.5/modules/generated/sklearn.mixture.GaussianMixture.html\">?<span>Documentation for GaussianMixture</span></a><span class=\"sk-estimator-doc-link fitted\">i<span>Fitted</span></span></label><div class=\"sk-toggleable__content fitted\"><pre>GaussianMixture(n_components=3, random_state=42)</pre></div> </div></div></div></div>"
      ],
      "text/plain": [
       "GaussianMixture(n_components=3, random_state=42)"
      ]
     },
     "execution_count": 43,
     "metadata": {},
     "output_type": "execute_result"
    }
   ],
   "source": [
    "gmm = GaussianMixture(n_components=best_k, covariance_type='full', random_state=42)\n",
    "gmm.fit(X_min)\n"
   ]
  },
  {
   "cell_type": "markdown",
   "id": "9bca285b",
   "metadata": {},
   "source": [
    "### Synthetic Data Generation\n",
    "The fitted Gaussian Mixture Model (GMM) was used to generate synthetic samples for the minority class in order to balance the dataset. A GMM represents the data as a mixture of several Gaussian distributions, each with its own mean, covariance, and weight. To generate a new sample, the model first selects one of the Gaussian components according to its weight, which reflects how much data belongs to that sub-group. Then, a data point is drawn randomly from the chosen Gaussian distribution based on its mean and covariance structure. This process is repeated until the required number of synthetic samples is obtained. The newly generated samples are then combined with the original training data to create a balanced dataset, ensuring that both classes are represented more equally during model training."
   ]
  },
  {
   "cell_type": "code",
   "execution_count": 44,
   "id": "44913289",
   "metadata": {},
   "outputs": [
    {
     "name": "stdout",
     "output_type": "stream",
     "text": [
      "Balanced training shape (GMM only): (454902, 30)\n"
     ]
    }
   ],
   "source": [
    "def gen_from_gmm(gmm, n, cols):\n",
    "    Xs, _ = gmm.sample(n)\n",
    "    return pd.DataFrame(Xs, columns=cols)\n",
    "\n",
    "n_to_gen = len(X_maj) - len(X_min)\n",
    "X_min_synth = gen_from_gmm(gmm, n_to_gen, X_min.columns)\n",
    "\n",
    "X_train_gmm = pd.concat([X_maj, X_min, X_min_synth], ignore_index=True)\n",
    "y_train_gmm = np.array([0]*len(X_maj) + [1]*(len(X_min)+len(X_min_synth)))\n",
    "\n",
    "print(\"Balanced training shape (GMM only):\", X_train_gmm.shape)\n"
   ]
  },
  {
   "cell_type": "markdown",
   "id": "a90e12ef",
   "metadata": {},
   "source": [
    "\n",
    "### Rebalancing with CBU \n"
   ]
  },
  {
   "cell_type": "code",
   "execution_count": 45,
   "id": "3b937e7c-962b-42e1-844e-286bc20c597f",
   "metadata": {},
   "outputs": [
    {
     "data": {
      "image/png": "[encoded data removed]",
      "text/plain": [
       "<Figure size 600x400 with 1 Axes>"
      ]
     },
     "metadata": {},
     "output_type": "display_data"
    },
    {
     "name": "stdout",
     "output_type": "stream",
     "text": [
      "Optimal Number of Clusters for Majority Group: 12\n"
     ]
    }
   ],
   "source": [
    "from sklearn.cluster import KMeans\n",
    "from kneed import KneeLocator\n",
    "import matplotlib.pyplot as plt\n",
    "\n",
    "majority_samples = X_train[y_train == 0]\n",
    "\n",
    "# Compute inertia for different k\n",
    "inertia = []\n",
    "K_range = range(1, 20)  # range of clusters\n",
    "\n",
    "for k in K_range:\n",
    "    kmeans = KMeans(n_clusters=k, random_state=42)\n",
    "    kmeans.fit(majority_samples)\n",
    "    inertia.append(kmeans.inertia_)\n",
    "\n",
    "\n",
    "knee_locator = KneeLocator(K_range, inertia, curve='convex', direction='decreasing')\n",
    "optimal_k = knee_locator.knee\n",
    "\n",
    "plt.figure(figsize=(6,4))\n",
    "plt.plot(K_range, inertia, 'bx-')\n",
    "plt.axvline(optimal_k, color='r', linestyle='--', label=f\"Optimal k = {optimal_k}\")\n",
    "plt.xlabel('Number of clusters')\n",
    "plt.ylabel('Within-Cluster Sum of Squares (Inertia)')\n",
    "plt.title('Elbow Method with KneeLocator')\n",
    "plt.legend()\n",
    "plt.show()\n",
    "\n",
    "print(f\"Optimal Number of Clusters for Majority Group: {optimal_k}\")\n"
   ]
  },
  {
   "cell_type": "code",
   "execution_count": 46,
   "id": "82b11bed",
   "metadata": {},
   "outputs": [
    {
     "name": "stdout",
     "output_type": "stream",
     "text": [
      "CBU majority shape: (794, 30)\n",
      "Balanced training shape (GMM+CBU): (1588, 30)\n"
     ]
    }
   ],
   "source": [
    "def proportional_cbu(X_majority, target_size, n_clusters=100):\n",
    "    maj_df = X_majority.copy()\n",
    "    kmeans = KMeans(n_clusters=n_clusters, random_state=42)\n",
    "    maj_df['Cluster'] = kmeans.fit_predict(maj_df)\n",
    "    counts = maj_df['Cluster'].value_counts().sort_index()\n",
    "    quotas = (counts / counts.sum() * target_size).astype(int)+1\n",
    "    parts = []\n",
    "    for cid, q in quotas.items():\n",
    "        pts = maj_df[maj_df['Cluster']==cid].drop(\"Cluster\", axis=1)\n",
    "        parts.append(pts.sample(n=min(q, len(pts)), random_state=42))\n",
    "    return pd.concat(parts).reset_index(drop=True)\n",
    "\n",
    "target_maj_size = 2*len(X_min)\n",
    "X_maj_cbu = proportional_cbu(X_maj, target_size=target_maj_size, n_clusters=12)\n",
    "print(\"CBU majority shape:\", X_maj_cbu.shape)\n",
    "\n",
    "n_to_gen_cbu = len(X_maj_cbu) - len(X_min)\n",
    "X_min_synth_cbu = gen_from_gmm(gmm, n_to_gen_cbu, X_min.columns)\n",
    "X_train_gmm_cbu = pd.concat([X_maj_cbu, X_min, X_min_synth_cbu], ignore_index=True)\n",
    "y_train_gmm_cbu = np.array([0]*len(X_maj_cbu) + [1]*(len(X_min)+len(X_min_synth_cbu)))\n",
    "print(\"Balanced training shape (GMM+CBU):\", X_train_gmm_cbu.shape)\n"
   ]
  },
  {
   "cell_type": "markdown",
   "id": "cebf7def",
   "metadata": {},
   "source": [
    "\n",
    "## Part C: Performance Evaluation and Conclusion\n"
   ]
  },
  {
   "cell_type": "markdown",
   "id": "c48ec792",
   "metadata": {},
   "source": [
    "\n",
    "### Model Training and Evaluation\n",
    "\n"
   ]
  },
  {
   "cell_type": "code",
   "execution_count": 47,
   "id": "73bf1b96",
   "metadata": {},
   "outputs": [
    {
     "name": "stdout",
     "output_type": "stream",
     "text": [
      " GMM only\n",
      "              precision    recall  f1-score   support\n",
      "\n",
      "           0     0.9998    0.9828    0.9912     56864\n",
      "           1     0.0826    0.8980    0.1512        98\n",
      "\n",
      "    accuracy                         0.9827     56962\n",
      "   macro avg     0.5412    0.9404    0.5712     56962\n",
      "weighted avg     0.9982    0.9827    0.9898     56962\n",
      "\n",
      " GMM+CBU\n",
      "              precision    recall  f1-score   support\n",
      "\n",
      "           0     0.9998    0.9746    0.9871     56864\n",
      "           1     0.0569    0.8878    0.1069        98\n",
      "\n",
      "    accuracy                         0.9745     56962\n",
      "   macro avg     0.5283    0.9312    0.5470     56962\n",
      "weighted avg     0.9982    0.9745    0.9855     56962\n",
      "\n"
     ]
    }
   ],
   "source": [
    "\n",
    "def eval_model(Xtr, ytr, Xte, yte):\n",
    "    clf = LogisticRegression(max_iter=1000, random_state=42)\n",
    "    clf.fit(Xtr, ytr)\n",
    "    yp = clf.predict(Xte)\n",
    "    print(classification_report(yte, yp, digits=4))\n",
    "    return yp\n",
    "\n",
    "print(\" GMM only\")\n",
    "y_pred_gmm = eval_model(X_train_gmm, y_train_gmm, X_test, y_test)\n",
    "print(\" GMM+CBU\")\n",
    "y_pred_gmm_cbu = eval_model(X_train_gmm_cbu, y_train_gmm_cbu, X_test, y_test)\n"
   ]
  },
  {
   "cell_type": "markdown",
   "id": "07b3a448",
   "metadata": {},
   "source": [
    "\n",
    "### Comparative Analysis \n",
    "\n"
   ]
  },
  {
   "cell_type": "code",
   "execution_count": 48,
   "id": "53b5f8da",
   "metadata": {},
   "outputs": [
    {
     "name": "stdout",
     "output_type": "stream",
     "text": [
      "          precision  recall  f1-score\n",
      "baseline     0.8267  0.6327    0.7168\n",
      "gmm_only     0.0826  0.8980    0.1512\n",
      "gmm_cbu      0.0569  0.8878    0.1069\n"
     ]
    },
    {
     "data": {
      "image/png": "[encoded data removed]",
      "text/plain": [
       "<Figure size 800x400 with 1 Axes>"
      ]
     },
     "metadata": {},
     "output_type": "display_data"
    }
   ],
   "source": [
    "def get_metrics(y_true, y_pred):\n",
    "    r = classification_report(y_true, y_pred, output_dict=True)\n",
    "    return {k: r['1'][k] for k in ['precision','recall','f1-score']}\n",
    "\n",
    "metrics = pd.DataFrame([\n",
    "    get_metrics(y_test, y_pred_baseline),\n",
    "    get_metrics(y_test, y_pred_gmm),\n",
    "    get_metrics(y_test, y_pred_gmm_cbu)\n",
    "], index=['baseline','gmm_only','gmm_cbu'])\n",
    "\n",
    "print(metrics.round(4))\n",
    "\n",
    "metrics.plot(kind='bar', figsize=(8,4))\n",
    "plt.title(\"Minority class metrics comparison\")\n",
    "plt.ylim(0,1)\n",
    "plt.show()\n"
   ]
  },
  {
   "cell_type": "markdown",
   "id": "2349559f",
   "metadata": {},
   "source": [
    "### Conclusion\n",
    "\n",
    "- The **baseline model** works pretty well because it can detect fraud while not flagging too many normal transactions.  \n",
    "\n",
    "- The **GMM-only model** finds almost all frauds, but it also marks a lot of normal transactions as fraud.\n",
    "- The **GMM-CBU model** is similar to GMM-only, catching most frauds but creating too many false alerts.  \n",
    "\n",
    "**Overall:** For credit card fraud detection, GMM model is better, because it helps in catching most frauds.\n",
    "\n",
    "### Final Recommendation\n",
    "GMM-based synthetic sampling proves highly effective in improving recall for the minority fraud class, ensuring that more fraudulent transactions are detected. However, this comes at the cost of a drastic drop in precision, leading to a large number of false alarms. While this trade-off may be acceptable in scenarios where missing fraud is far more costly than flagging legitimate transactions, the low precision can overwhelm verification processes. Therefore, GMM should not be used alone; it is best combined with ensemble or cost-sensitive methods and supported by threshold tuning to strike a practical balance. Overall, GMM is a strong tool for generating realistic synthetic samples due to its ability to capture complex data distributions, but it must be integrated with complementary techniques for deployment in real-world fraud detection systems.\n"
   ]
  },
  {
   "cell_type": "code",
   "execution_count": null,
   "id": "3469e31e-9578-492f-b5ec-4075601cf297",
   "metadata": {},
   "outputs": [],
   "source": []
  }
 ],
 "metadata": {
  "kernelspec": {
   "display_name": "Python 3 (ipykernel)",
   "language": "python",
   "name": "python3"
  },
  "language_info": {
   "codemirror_mode": {
    "name": "ipython",
    "version": 3
   },
   "file_extension": ".py",
   "mimetype": "text/x-python",
   "name": "python",
   "nbconvert_exporter": "python",
   "pygments_lexer": "ipython3",
   "version": "3.11.1"
  }
 },
 "nbformat": 4,
 "nbformat_minor": 5
}
